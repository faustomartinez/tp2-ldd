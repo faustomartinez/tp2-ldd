{
 "cells": [
  {
   "cell_type": "markdown",
   "id": "ded0c830-d971-4e33-a5a9-41266a777608",
   "metadata": {},
   "source": [
    "# Trabajo Práctico Nº2 - Laboratorio de Datos\n",
    "\n",
    "**Integrantes:**\n",
    "- Martínez, Fausto.\n",
    "- Oviedo, Santiago."
   ]
  },
  {
   "cell_type": "markdown",
   "id": "c676b336-5602-4d20-a383-6cedf6bc1d7c",
   "metadata": {
    "jp-MarkdownHeadingCollapsed": true
   },
   "source": [
    "## Preprocesamiento"
   ]
  },
  {
   "cell_type": "markdown",
   "id": "0ce141b9-9743-4810-8934-97e6a34da6ec",
   "metadata": {},
   "source": [
    "### Ejercicio 1\n",
    "\n",
    "Cargar en un DataFrame los datos del archivo $\\texttt{FBRef2020-21.csv}$."
   ]
  },
  {
   "cell_type": "markdown",
   "id": "a46359f1-213f-416e-8ad3-8e1519369481",
   "metadata": {},
   "source": [
    "### Ejercicio 2\n",
    "\n",
    "Eliminar a los jugadores que jugaron menos de 500 minutos en la temporada (columna $\\texttt{Min}$)."
   ]
  },
  {
   "cell_type": "markdown",
   "id": "7fcb2400-8c45-4ead-b7f2-9e85fcabae26",
   "metadata": {},
   "source": [
    "### Ejercicio 3\n",
    "\n",
    "Eliminar los datos faltantes. Por ejemplo, eliminar columnas con más de 100 datos faltantes y luego las filas con datos faltantes, o convertir los datos faltantes a algún valor apropiado."
   ]
  },
  {
   "cell_type": "markdown",
   "id": "0d0271d1-5a0e-4a5b-8d55-d38edd55c080",
   "metadata": {},
   "source": [
    "### Ejercicio 4\n",
    "\n",
    "Al finalizar la llimpieza de datos, resetear los índices."
   ]
  },
  {
   "cell_type": "markdown",
   "id": "ad3d8b57-b797-4bbc-9108-9e60fb9c736c",
   "metadata": {},
   "source": [
    "### Ejercicio 5\n",
    "\n",
    "Definir el DataFrame $\\texttt{data\\_num}$ que solo contenga las variables numéricas, a partir de la columna $\\texttt{Ast/90}$, inclusive. Para clustering y clasificación no vamos a utilizar las variables categóricas ni edad ni minutos jugados."
   ]
  },
  {
   "cell_type": "markdown",
   "id": "9db19cc5-ccc0-4175-a200-86f63137a67f",
   "metadata": {
    "jp-MarkdownHeadingCollapsed": true
   },
   "source": [
    "## Clustering"
   ]
  },
  {
   "cell_type": "markdown",
   "id": "611e42f0-a2ba-455b-b6a3-319667e70ec4",
   "metadata": {},
   "source": [
    "### Ejercicio 6\n",
    "\n",
    "Nuestro primer objetivo es realizar algún agrupamiento de jugadores con características similares."
   ]
  },
  {
   "cell_type": "markdown",
   "id": "a63baa3c-6189-43f4-ba7d-6c48f9e29062",
   "metadata": {},
   "source": [
    "#### Inciso a\n",
    "\n",
    "Seleccionar dos variables cualesquiera de los datos y realizar un gráfico de dispersión de una variable en función de la otra para el total de las observaciones. ¿Pueden encontrar fácilmente grupos distintos?"
   ]
  },
  {
   "cell_type": "markdown",
   "id": "a9a5ebbe-44d4-41e3-a83b-5ebe90b7c020",
   "metadata": {},
   "source": [
    "#### Inciso b\n",
    "\n",
    "Escalar los datos y realizar un análisis de componentes principales, quedándose solo con las dos primeras componentes. Realizar un gráfico como el del punto anterior. ¿Cuántos clusters puede distinguir en el gráfico? ¿A qué características de los jugadores pueden corresponder los clusters? ¿Cómo pueden verificar su conjetura? (realizar una visualización o algún cálculo)"
   ]
  },
  {
   "cell_type": "markdown",
   "id": "449e6d7f-ce3c-4efd-b436-64a8d5d5d79d",
   "metadata": {},
   "source": [
    "#### Inciso c\n",
    "\n",
    "Para la cantidad de clusters observados en el ítem anterior, realizar un agrupamiento por $k$-medias, y colorear los puntos según las etiquetas obtenidas. ¿Coinciden las etiquetas con lo esperado?"
   ]
  },
  {
   "cell_type": "markdown",
   "id": "cf4e74ac-ca7a-4b38-ad2d-fe19336a90c3",
   "metadata": {},
   "source": [
    "#### Inciso d\n",
    "\n",
    "Repetir el agrupamiento utilizando DBSCAN. ¿Cómo elegirían en este caso un valor de $\\epsilon$ apropiado? Sugerencia: consultar la sección \"Selección del hiperparámetro $eps$\" del Notebook de la clase de DBSCAN (o utilizar cualquier otra técnica que consideren apropiada)"
   ]
  },
  {
   "cell_type": "markdown",
   "id": "c7a7e682-df04-4e56-977c-b080849e60e6",
   "metadata": {},
   "source": [
    "#### Inciso e\n",
    "\n",
    "Utilizar DBSCAN para realizar agrupamiento utilizando como datos todas las variables originales en lugar de solo las dos componentes principales, modificando los valores de $\\texttt{epsilon}$ y $\\texttt{minPts}$ convenientemente. ¿Con cuál de las dos opciones obtienen mejores resultados?"
   ]
  },
  {
   "cell_type": "markdown",
   "id": "85964f59-0d0c-4d3b-856b-2b69bc5f80d4",
   "metadata": {
    "jp-MarkdownHeadingCollapsed": true
   },
   "source": [
    "## Clasificación"
   ]
  },
  {
   "cell_type": "markdown",
   "id": "3338400c-c239-4a97-9995-9a5a96ccc39d",
   "metadata": {},
   "source": [
    "### Ejercicio 7\n",
    "\n",
    "Ahora queremos poder predecir la posición en la que juega cada jugador según sus datos estadístico utilizando $KNN$. En la columna $\\texttt{Pos}$ encontramos la posición de los jugadores. Para la mayoría de los jugadores se indica una única posición pero algunos jugadores tienen dos posiciones. Para simplificar el análisis vamos a considerar una única posición por jugador."
   ]
  },
  {
   "cell_type": "markdown",
   "id": "25a433fd-2123-4260-ad44-cd881c756f87",
   "metadata": {},
   "source": [
    "#### Inciso a\n",
    "\n",
    "Definir la variable $\\texttt{Pos\\_filt}$ que es la columna $\\texttt{Pos}$, pero donde los jugadores deben tener una sola posición (pueden quedarse sólo con la primera posición de cada jugador o eliminar los jugadores con dos posiciones, lo que consideren más conveniente)."
   ]
  },
  {
   "cell_type": "markdown",
   "id": "d0fcb7fb-d1d1-4903-994b-5e978fadefaa",
   "metadata": {},
   "source": [
    "#### Inciso b\n",
    "\n",
    "Construir el DataFrame $\\texttt{data\\_clasif}$ que resulta de agregarle la columna $\\texttt{Pos\\_filt}$ al DataFrame $\\texttt{data\\_num}$. Dividir $\\texttt{data\\_num}$ en un 80% para entrenamiento y un 20% para testeo."
   ]
  },
  {
   "cell_type": "markdown",
   "id": "e24af07f-5e9c-46f1-aa46-02786bd1e2ec",
   "metadata": {},
   "source": [
    "#### Inciso c\n",
    "\n",
    "Aplicar un esquema de validación en el conjunto de entrenamiento para seleccionar el valor óptimo de $K$. (Esto puede demorar mucho si prueban muchos valores de $K$, pueden hacerlo hasta un valor máximo de $K$=20.)\n",
    "\n",
    "**Sugerencia:** puede resultar de ayuda $\\texttt{KNeighborsClassifier}$ de $\\texttt{sklearn}$ e investigar esa librería para aplicar esquemas de validación."
   ]
  },
  {
   "cell_type": "markdown",
   "id": "53d1fc8d-8393-4956-8de6-5c4e8f4d3270",
   "metadata": {},
   "source": [
    "#### Inciso d\n",
    "\n",
    "Para el valor de $K$ obtenido, ¿cuál es el porcentaje de aciertos en el conjunto de testeo?"
   ]
  },
  {
   "cell_type": "markdown",
   "id": "c5ce44f7-9908-4cd5-95ec-02ef47e95369",
   "metadata": {},
   "source": [
    "#### Inciso e\n",
    "\n",
    "Repetir el procedimiento utilizando las primeras dos componentes principales en vez de todas las variables. Indicar si se obtienen mejores resultados."
   ]
  },
  {
   "cell_type": "markdown",
   "id": "ad484e50-8670-4ee6-b83d-ba7a55ea3142",
   "metadata": {},
   "source": [
    "### Ejercicio 8\n",
    "\n",
    "Repetir el mismo método de clasificación con el dataset de jugadoras de la liga inglesa femenina $\\texttt{superleague2023.csv}$. Para esto, quedarse con la columna $\\texttt{Pos}$ y las columnas a partir de $\\texttt{MP}$, inclusive. ¿Qué porcentaje de aciertos obtienen en este caso? ¿Pueden modificarse el parámetro para obtener un porcentaje mayor?"
   ]
  },
  {
   "cell_type": "markdown",
   "id": "19687167-59e6-4d07-a0dd-eec7e9887a8c",
   "metadata": {
    "jp-MarkdownHeadingCollapsed": true
   },
   "source": [
    "## Recomendaciones de jugadores"
   ]
  },
  {
   "cell_type": "markdown",
   "id": "a550042c-5727-4ccd-9a59-abec6af599b9",
   "metadata": {},
   "source": [
    "### Ejercicio 9 \n",
    "\n",
    "Trabajamos ahora con el dataset $\\texttt{transfermarkt\\_fbref\\_201920.csv}$ que incluye la valuación de los jugadores. Una de las aplicaciones más comunes de análisis de datos en el fútbol es para obtener recomendaciones de jugadores a comprar.\n",
    "\n",
    "Si al leer el $\\texttt{.csv}$ salta un error, intentar con:\n",
    "\n",
    "`data=pd.read_csv('transfermarkt_fbref_201920.csv',delimiter=';')`"
   ]
  },
  {
   "cell_type": "markdown",
   "id": "6fb7b2a5-c55f-4c0c-8e82-72a709b2efed",
   "metadata": {},
   "source": [
    "#### Inciso a\n",
    "\n",
    "En 2021, Messi fue transferido del Barcelona al PSG. Basándonse en los datos disponibles, recomendarle a Barcelona un jugador de características similares a Messi pero de menor valor."
   ]
  },
  {
   "cell_type": "markdown",
   "id": "88221164-c76c-4e40-9948-8318e4a8b424",
   "metadata": {},
   "source": [
    "#### Inciso b\n",
    "\n",
    "Queremos elaborar un modelo para detectar jugadores \"baratos\", es decir, cuya valuación en el mercado (columna $\\texttt{value}$) sea inferior a la que nosotros estimemos. Para esto, quisiéramos ajustar el valor de mercado a partir de los datos de los jugadores (para estimar la valuación pueden incorporar la edad entre las variables explicativas). El modelo que desarrollen puede basarse en redes neuronales o en otro modelo que consideren adecuado."
   ]
  },
  {
   "cell_type": "markdown",
   "id": "dd7737d8-fe73-4bfa-815b-458fc6c61cc2",
   "metadata": {},
   "source": [
    "#### Inciso c\n",
    "\n",
    "Según el modelo desarrollado, entre los jugadores con un valor de mercado mayor a $100000, ¿quién es el más sobrevalorado? Es decir, el jugador con mayor diferencia entre el valor de mercado y el valor predicho por el modelo. ¿Y el más infravalorado?"
   ]
  },
  {
   "cell_type": "markdown",
   "id": "df0db3ef-6f1c-4b5f-aa92-4c7695489d2e",
   "metadata": {},
   "source": [
    "#### Inciso d\n",
    "\n",
    "El PSG quiere vender a Mbappé y reemplazarlo por otro jugador más barato. Hacer un listado de los 10 jugadores más parecidos a Mbappé según el crietrio que elijan. De esos 10 jugadores, según el modelo que desarrollaron en el ítem anterior, ¿a qué jugador recomendarían teniendo en cuenta la valuación del mercado y la predicción del modelo? Para ese jugador, averiguar la valuación actual del jugador. ¿Hicieron una buena recomendación?"
   ]
  },
  {
   "cell_type": "code",
   "execution_count": null,
   "id": "e883be1d-8302-4483-85d7-0de7b1e9c51b",
   "metadata": {},
   "outputs": [],
   "source": []
  }
 ],
 "metadata": {
  "kernelspec": {
   "display_name": "Python 3 (ipykernel)",
   "language": "python",
   "name": "python3"
  },
  "language_info": {
   "codemirror_mode": {
    "name": "ipython",
    "version": 3
   },
   "file_extension": ".py",
   "mimetype": "text/x-python",
   "name": "python",
   "nbconvert_exporter": "python",
   "pygments_lexer": "ipython3",
   "version": "3.11.5"
  }
 },
 "nbformat": 4,
 "nbformat_minor": 5
}
