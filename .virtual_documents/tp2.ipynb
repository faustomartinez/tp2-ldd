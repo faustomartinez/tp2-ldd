import matplotlib.pyplot as plt
import seaborn as sns
import seaborn.objects as so
import numpy as np
import pandas as pd

from sklearn.linear_model import LinearRegression, Ridge
from sklearn.metrics import mean_squared_error, r2_score
from sklearn.model_selection import train_test_split, KFold, cross_val_score, GridSearchCV
from sklearn.preprocessing import MinMaxScaler, StandardScaler
from sklearn.cluster import KMeans, DBSCAN
from sklearn.decomposition import PCA
from sklearn.datasets import make_blobs
from sklearn.neighbors import NearestNeighbors

from formulaic import Formula, model_matrix
from gapminder import gapminder











FBref = pd.read_csv("FBRef2020-21.csv")
FBref.shape





FBref = FBref[FBref['Min']>500]
FBref.shape





FBref


# Vemos cuantos jugadores tienen datos fantantes en cada columna
with pd.option_context("display.max_rows",None):
    print(FBref.isna().sum())


nan_cols = FBref.isna().sum() > 50
keep = nan_cols.index[~(nan_cols)]
FBref = FBref[keep]
FBref





FBref = FBref.dropna()
FBref





FBref.isna().sum()





FBref = FBref.reset_index().drop('index',axis=1)
FBref





FBref.columns[0:20]





data_num = FBref.drop(FBref.columns[0:11],axis=1)
data_num


data_num.info()





columnas_object = data_num.select_dtypes(include='object')
columnas_object














data_num





(
    so.Plot(data=data_num,x="LowPass/90",y="Shots/90")
    .add(so.Dot())
)











data_num[data_num.columns] = MinMaxScaler().fit_transform(data_num)
data_num


pca = PCA(n_components = 2)

componentesPrincipales = pca.fit_transform(data_num)
print(componentesPrincipales)


(
    so.Plot(x=componentesPrincipales[:,0],y=componentesPrincipales[:,1])
    .add(so.Dot())
    .add(so.Text())
)





(
    so.Plot(x=componentesPrincipales[:,0],y=componentesPrincipales[:,1],color=FBref.Pos)
    .add(so.Dot())
)





kmeans = KMeans(n_clusters=2)
etiquetas1 = kmeans.fit_predict(data_num)
etiquetas2 = kmeans.fit_predict(componentesPrincipales)


(
    so.Plot(x=componentesPrincipales[:,0],y=componentesPrincipales[:,1], color=etiquetas1.astype("str"))
    .add(so.Dot())
)


(
    so.Plot(x=componentesPrincipales[:,0],y=componentesPrincipales[:,1], color=etiquetas2.astype("str"))
    .add(so.Dot())
)








neighbors = NearestNeighbors(n_neighbors = 2)
neighbors_fit = neighbors.fit(componentesPrincipales)


distances, indices = neighbors_fit.kneighbors(componentesPrincipales)
distances = distances[:,1]
distances = np.sort(distances, axis = 0)

so.Plot(x = np.arange(len(distances)), y = distances).add(so.Line())


dbscan = DBSCAN(eps = 0.20, min_samples=8)
etiquetas1 = dbscan.fit_predict(componentesPrincipales)


(
    so.Plot(x=componentesPrincipales[:,0],y=componentesPrincipales[:,1], color=etiquetas2.astype("str"))
    .add(so.Dot())
)





dbscan = DBSCAN(eps = 1.5, min_samples=8)
etiquetas2 = dbscan.fit_predict(data_num)


distances, indices = neighbors_fit.kneighbors(data_num)
distances = distances[:,1]
distances = np.sort(distances, axis = 0)

so.Plot(x = np.arange(len(distances)), y = distances).add(so.Line())


neighbors = NearestNeighbors(n_neighbors = 2)
neighbors_fit = neighbors.fit(data_num)


(
    so.Plot(x=componentesPrincipales[:,0],y=componentesPrincipales[:,1], color=etiquetas2.astype("str"))
    .add(so.Dot())
)
















































